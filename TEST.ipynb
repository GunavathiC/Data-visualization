{
  "nbformat": 4,
  "nbformat_minor": 0,
  "metadata": {
    "colab": {
      "provenance": [],
      "authorship_tag": "ABX9TyMZVwWrJ/rxGYjoLFn2UcyI",
      "include_colab_link": true
    },
    "kernelspec": {
      "name": "python3",
      "display_name": "Python 3"
    },
    "language_info": {
      "name": "python"
    }
  },
  "cells": [
    {
      "cell_type": "markdown",
      "metadata": {
        "id": "view-in-github",
        "colab_type": "text"
      },
      "source": [
        "<a href=\"https://colab.research.google.com/github/GunavathiC/Data-visualization/blob/main/TEST.ipynb\" target=\"_parent\"><img src=\"https://colab.research.google.com/assets/colab-badge.svg\" alt=\"Open In Colab\"/></a>"
      ]
    },
    {
      "cell_type": "code",
      "execution_count": null,
      "metadata": {
        "id": "WHcIXa5Fo2yX"
      },
      "outputs": [],
      "source": []
    },
    {
      "cell_type": "code",
      "source": [
        "class Pen:\n",
        "  def __init__(self, brand, color):\n",
        "    self.brand = brand\n",
        "    self.color = color\n",
        "\n",
        "pen1 = Pen(\"Parker\", \"Blue\")\n",
        "pen2 = Pen(\"Pilot\", \"Black\")\n",
        "\n",
        "print(f\"Pen 1: Brand - {pen1.brand}, Color - {pen1.color}\")\n",
        "print(f\"Pen 2: Brand - {pen2.brand}, Color - {pen2.color}\")"
      ],
      "metadata": {
        "colab": {
          "base_uri": "https://localhost:8080/"
        },
        "id": "kmeCkIiypFD2",
        "outputId": "609160d5-9d48-42ce-cf77-d196116cc179"
      },
      "execution_count": 2,
      "outputs": [
        {
          "output_type": "stream",
          "name": "stdout",
          "text": [
            "Pen 1: Brand - Parker, Color - Blue\n",
            "Pen 2: Brand - Pilot, Color - Black\n"
          ]
        }
      ]
    },
    {
      "cell_type": "code",
      "source": [],
      "metadata": {
        "id": "ahtgs3qipKef"
      },
      "execution_count": null,
      "outputs": []
    },
    {
      "cell_type": "code",
      "metadata": {
        "colab": {
          "base_uri": "https://localhost:8080/"
        },
        "id": "8f653da3",
        "outputId": "f525cec2-8bf3-4685-eea4-c6ecb83e5753"
      },
      "source": [
        "class Laptop:\n",
        "  def __init__(self, brand, price):\n",
        "    self.brand = brand\n",
        "    self.price = price\n",
        "\n",
        "  def show_details(self):\n",
        "    print(f\"Brand: {self.brand}, Price: {self.price}\")\n",
        "\n",
        "# Example usage:\n",
        "laptop1 = Laptop(\"Dell\", 1200)\n",
        "laptop1.show_details()"
      ],
      "execution_count": 3,
      "outputs": [
        {
          "output_type": "stream",
          "name": "stdout",
          "text": [
            "Brand: Dell, Price: 1200\n"
          ]
        }
      ]
    },
    {
      "cell_type": "code",
      "source": [],
      "metadata": {
        "id": "7uGDN5SbpXN_"
      },
      "execution_count": null,
      "outputs": []
    },
    {
      "cell_type": "code",
      "metadata": {
        "colab": {
          "base_uri": "https://localhost:8080/"
        },
        "id": "80a22560",
        "outputId": "25023f65-63ac-4fd7-cb21-4afaa1a32853"
      },
      "source": [
        "class Vehicle:\n",
        "  def __init__(self, brand):\n",
        "    self.brand = brand\n",
        "\n",
        "class Car(Vehicle):\n",
        "  def __init__(self, brand, model):\n",
        "    super().__init__(brand)\n",
        "    self.model = model\n",
        "\n",
        "  def show_details(self):\n",
        "    print(f\"Brand: {self.brand}, Model: {self.model}\")\n",
        "\n",
        "# Example usage:\n",
        "car1 = Car(\"Toyota\", \"Camry\")\n",
        "car1.show_details()"
      ],
      "execution_count": 4,
      "outputs": [
        {
          "output_type": "stream",
          "name": "stdout",
          "text": [
            "Brand: Toyota, Model: Camry\n"
          ]
        }
      ]
    },
    {
      "cell_type": "code",
      "source": [],
      "metadata": {
        "id": "R8LzthdrprI9"
      },
      "execution_count": null,
      "outputs": []
    },
    {
      "cell_type": "code",
      "metadata": {
        "colab": {
          "base_uri": "https://localhost:8080/"
        },
        "id": "fc105b20",
        "outputId": "4ba1f99a-4a9d-4076-f7ca-6678b860da9f"
      },
      "source": [
        "class BankAccount:\n",
        "  def __init__(self):\n",
        "    self.__balance = 0  # Private variable\n",
        "\n",
        "  def deposit(self, amount):\n",
        "    if amount > 0:\n",
        "      self.__balance += amount\n",
        "      print(f\"Deposited: ${amount}. New balance: ${self.__balance}\")\n",
        "    else:\n",
        "      print(\"Deposit amount must be positive.\")\n",
        "\n",
        "  def get_balance(self):\n",
        "    return self.__balance\n",
        "\n",
        "# Example usage:\n",
        "account = BankAccount()\n",
        "account.deposit(1000)\n",
        "print(f\"Current balance: ${account.get_balance()}\")\n",
        "account.deposit(-50)\n",
        "print(f\"Current balance: ${account.get_balance()}\")"
      ],
      "execution_count": 5,
      "outputs": [
        {
          "output_type": "stream",
          "name": "stdout",
          "text": [
            "Deposited: $1000. New balance: $1000\n",
            "Current balance: $1000\n",
            "Deposit amount must be positive.\n",
            "Current balance: $1000\n"
          ]
        }
      ]
    },
    {
      "cell_type": "code",
      "source": [],
      "metadata": {
        "id": "jPi-_Hakp4Qw"
      },
      "execution_count": null,
      "outputs": []
    },
    {
      "cell_type": "code",
      "metadata": {
        "colab": {
          "base_uri": "https://localhost:8080/"
        },
        "id": "26fc26ec",
        "outputId": "25dbbfb6-21ad-4fb0-d258-0e86c569a2ef"
      },
      "source": [
        "class Dog:\n",
        "  def speak(self):\n",
        "    print(\"Bark\")\n",
        "\n",
        "class Cat:\n",
        "  def speak(self):\n",
        "    print(\"Meow\")\n",
        "\n",
        "def animal_speak(animal):\n",
        "  animal.speak()\n",
        "\n",
        "# Example usage:\n",
        "dog_instance = Dog()\n",
        "cat_instance = Cat()\n",
        "\n",
        "animal_speak(dog_instance)\n",
        "animal_speak(cat_instance)"
      ],
      "execution_count": 6,
      "outputs": [
        {
          "output_type": "stream",
          "name": "stdout",
          "text": [
            "Bark\n",
            "Meow\n"
          ]
        }
      ]
    },
    {
      "cell_type": "code",
      "source": [],
      "metadata": {
        "id": "wIozYu0UqBAr"
      },
      "execution_count": null,
      "outputs": []
    }
  ]
}