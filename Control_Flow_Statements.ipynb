{
  "nbformat": 4,
  "nbformat_minor": 0,
  "metadata": {
    "colab": {
      "provenance": [],
      "authorship_tag": "ABX9TyM+y15xZrcluXDNqmp1ztAd",
      "include_colab_link": true
    },
    "kernelspec": {
      "name": "python3",
      "display_name": "Python 3"
    },
    "language_info": {
      "name": "python"
    }
  },
  "cells": [
    {
      "cell_type": "markdown",
      "metadata": {
        "id": "view-in-github",
        "colab_type": "text"
      },
      "source": [
        "<a href=\"https://colab.research.google.com/github/GunavathiC/Data-visualization/blob/main/Control_Flow_Statements.ipynb\" target=\"_parent\"><img src=\"https://colab.research.google.com/assets/colab-badge.svg\" alt=\"Open In Colab\"/></a>"
      ]
    },
    {
      "cell_type": "code",
      "execution_count": 1,
      "metadata": {
        "id": "gdULqjEPugLT"
      },
      "outputs": [],
      "source": []
    },
    {
      "cell_type": "code",
      "source": [
        "#if\n",
        "age = 20\n",
        "if age <= 18:\n",
        "    print(\"adult\",age)"
      ],
      "metadata": {
        "id": "nT4LcIgbutDr"
      },
      "execution_count": 9,
      "outputs": []
    },
    {
      "cell_type": "code",
      "source": [
        "# elif\n",
        "score=54\n",
        "if score>90:\n",
        "    print(\"grade A\")\n",
        "elif score>=80:\n",
        "    print(\"grade B\")\n",
        "\n",
        "elif score>=70:\n",
        "    print(\"grade c\")\n",
        "else:\n",
        "    print(\"grade D\")"
      ],
      "metadata": {
        "colab": {
          "base_uri": "https://localhost:8080/"
        },
        "id": "0v4qE71Wva8t",
        "outputId": "6e61f305-cbf4-4422-814c-881d167c08d0"
      },
      "execution_count": 8,
      "outputs": [
        {
          "output_type": "stream",
          "name": "stdout",
          "text": [
            "grade D\n"
          ]
        }
      ]
    },
    {
      "cell_type": "code",
      "source": [
        "#nested if\n",
        "num=int(input(\"enter a number:\"))\n",
        "if num>=0:\n",
        "    if num%2==0:\n",
        "      print(\"even\")\n",
        "    else:\n",
        "      print(\"odd\")\n",
        "else:\n",
        "  print(\"negative\")"
      ],
      "metadata": {
        "colab": {
          "base_uri": "https://localhost:8080/"
        },
        "id": "MY2mqsWjyRHq",
        "outputId": "25749106-8141-4f15-93bb-3de8c2b5d1f9"
      },
      "execution_count": 14,
      "outputs": [
        {
          "output_type": "stream",
          "name": "stdout",
          "text": [
            "enter a number:5\n",
            "odd\n"
          ]
        }
      ]
    },
    {
      "cell_type": "code",
      "source": [
        "# transfer statement\n",
        "for i in range (1,6):\n",
        "    if i == 3:\n",
        "        pass\n",
        "    print(i)"
      ],
      "metadata": {
        "colab": {
          "base_uri": "https://localhost:8080/"
        },
        "id": "qNIILfpazc79",
        "outputId": "236525bf-1eb0-4c75-f6ba-24959db4d2c0"
      },
      "execution_count": 21,
      "outputs": [
        {
          "output_type": "stream",
          "name": "stdout",
          "text": [
            "1\n",
            "2\n",
            "3\n",
            "4\n",
            "5\n"
          ]
        }
      ]
    },
    {
      "cell_type": "code",
      "source": [
        "for i in range (1,10):\n",
        "    if i == 5:\n",
        "        continue\n",
        "    print(i)"
      ],
      "metadata": {
        "colab": {
          "base_uri": "https://localhost:8080/"
        },
        "id": "yOXkOBe0y4ZC",
        "outputId": "80c65208-8729-44db-a790-e8a268538408"
      },
      "execution_count": 22,
      "outputs": [
        {
          "output_type": "stream",
          "name": "stdout",
          "text": [
            "1\n",
            "2\n",
            "3\n",
            "4\n",
            "6\n",
            "7\n",
            "8\n",
            "9\n"
          ]
        }
      ]
    },
    {
      "cell_type": "code",
      "source": [
        "for i in range (1,25):\n",
        "    if i == 15:\n",
        "        break\n",
        "    print(i)\n",
        ""
      ],
      "metadata": {
        "colab": {
          "base_uri": "https://localhost:8080/"
        },
        "id": "h7JYatNj0qtu",
        "outputId": "56882a69-62ea-45c7-e1b5-d7cee562f8fb"
      },
      "execution_count": 23,
      "outputs": [
        {
          "output_type": "stream",
          "name": "stdout",
          "text": [
            "1\n",
            "2\n",
            "3\n",
            "4\n",
            "5\n",
            "6\n",
            "7\n",
            "8\n",
            "9\n",
            "10\n",
            "11\n",
            "12\n",
            "13\n",
            "14\n"
          ]
        }
      ]
    },
    {
      "cell_type": "code",
      "source": [],
      "metadata": {
        "id": "VraBWXkO1o85"
      },
      "execution_count": null,
      "outputs": []
    },
    {
      "cell_type": "code",
      "source": [
        "max_num = float('-inf') # Initialize with negative infinity\n",
        "min_num = float('inf')  # Initialize with positive infinity\n",
        "\n",
        "for i in range(1, 21):\n",
        "  if i > max_num:\n",
        "    max_num = i\n",
        "  if i < min_num:\n",
        "    min_num = i\n",
        "\n",
        "print(\"Maximum number:\", max_num)\n",
        "print(\"Minimum number:\", min_num)"
      ],
      "metadata": {
        "colab": {
          "base_uri": "https://localhost:8080/"
        },
        "id": "Ssb6Gawp1Zwd",
        "outputId": "17c02adf-2d55-484a-a48a-c779a936a2fa"
      },
      "execution_count": 26,
      "outputs": [
        {
          "output_type": "stream",
          "name": "stdout",
          "text": [
            "Maximum number: 20\n",
            "Minimum number: 1\n"
          ]
        }
      ]
    },
    {
      "cell_type": "code",
      "source": [
        "#while\n",
        "count = 1\n",
        "while count <= 5:\n",
        "    print(count)\n",
        "    count += 1"
      ],
      "metadata": {
        "colab": {
          "base_uri": "https://localhost:8080/"
        },
        "id": "ymHtAA-w1iYe",
        "outputId": "7875407d-39c3-43e0-ccf1-7b651e41660c"
      },
      "execution_count": 27,
      "outputs": [
        {
          "output_type": "stream",
          "name": "stdout",
          "text": [
            "1\n",
            "2\n",
            "3\n",
            "4\n",
            "5\n"
          ]
        }
      ]
    },
    {
      "cell_type": "code",
      "source": [
        " green_energy_data = [\n",
        "    {\"city\": \"Bangalore\", \"solar_units\": 120, \"wind_units\": 80},\n",
        "    {\"city\": \"Mysore\", \"solar_units\": 90, \"wind_units\": 40},\n",
        "    {\"city\": \"Chennai\", \"solar_units\": 50, \"wind_units\": 20},\n",
        "    {\"city\": \"Hyderabad\", \"solar_units\": 130, \"wind_units\": 95},\n",
        "    {\"city\": \"Coimbatore\", \"solar_units\": 30, \"wind_units\": 15}\n",
        " ]"
      ],
      "metadata": {
        "id": "ve-eQ15Y1xvS"
      },
      "execution_count": 28,
      "outputs": []
    },
    {
      "cell_type": "code",
      "source": [],
      "metadata": {
        "id": "uF_C92NZ3MkZ"
      },
      "execution_count": null,
      "outputs": []
    },
    {
      "cell_type": "code",
      "metadata": {
        "colab": {
          "base_uri": "https://localhost:8080/"
        },
        "id": "bf4c2de1",
        "outputId": "b6f7d162-533d-4417-eb85-55f2c0594a24"
      },
      "source": [
        "for city_data in green_energy_data:\n",
        "    if city_data[\"solar_units\"] > 100:\n",
        "        print(f\"{city_data['city']} has more than 100 solar units.\")"
      ],
      "execution_count": 29,
      "outputs": [
        {
          "output_type": "stream",
          "name": "stdout",
          "text": [
            "Bangalore has more than 100 solar units.\n",
            "Hyderabad has more than 100 solar units.\n"
          ]
        }
      ]
    },
    {
      "cell_type": "code",
      "metadata": {
        "colab": {
          "base_uri": "https://localhost:8080/"
        },
        "id": "1d9b21ad",
        "outputId": "b87275a6-d708-4a21-b6ba-5daac6271932"
      },
      "source": [
        "for city_data in green_energy_data:\n",
        "    if city_data[\"solar_units\"] > city_data[\"wind_units\"]:\n",
        "        print(f\"{city_data['city']} has more solar units than wind units.\")\n",
        "    else:\n",
        "        print(f\"{city_data['city']} has less than or equal to solar units than wind units.\")"
      ],
      "execution_count": 30,
      "outputs": [
        {
          "output_type": "stream",
          "name": "stdout",
          "text": [
            "Bangalore has more solar units than wind units.\n",
            "Mysore has more solar units than wind units.\n",
            "Chennai has more solar units than wind units.\n",
            "Hyderabad has more solar units than wind units.\n",
            "Coimbatore has more solar units than wind units.\n"
          ]
        }
      ]
    },
    {
      "cell_type": "code",
      "metadata": {
        "colab": {
          "base_uri": "https://localhost:8080/"
        },
        "id": "a4487e50",
        "outputId": "34fda33b-89c8-4777-e50a-58e11cc23152"
      },
      "source": [
        "for city_data in green_energy_data:\n",
        "    if city_data[\"solar_units\"] >= 100:\n",
        "        print(f\"{city_data['city']} has High solar usage.\")\n",
        "    elif city_data[\"solar_units\"] >= 50:\n",
        "        print(f\"{city_data['city']} has Medium solar usage.\")\n",
        "    else:\n",
        "        print(f\"{city_data['city']} has Low solar usage.\")"
      ],
      "execution_count": 31,
      "outputs": [
        {
          "output_type": "stream",
          "name": "stdout",
          "text": [
            "Bangalore has High solar usage.\n",
            "Mysore has Medium solar usage.\n",
            "Chennai has Medium solar usage.\n",
            "Hyderabad has High solar usage.\n",
            "Coimbatore has Low solar usage.\n"
          ]
        }
      ]
    },
    {
      "cell_type": "code",
      "metadata": {
        "colab": {
          "base_uri": "https://localhost:8080/"
        },
        "id": "7c853548",
        "outputId": "9dcd18f2-4512-40f0-c7bb-a77adc4f8af8"
      },
      "source": [
        "for city_data in green_energy_data:\n",
        "    total_units = city_data[\"solar_units\"] + city_data[\"wind_units\"]\n",
        "    if total_units >= 200:\n",
        "        print(f\"{city_data['city']} uses a total of {total_units} units (>=200).\")\n",
        "        if city_data[\"solar_units\"] > city_data[\"wind_units\"]:\n",
        "            print(f\"  It uses more solar energy ({city_data['solar_units']}) than wind energy ({city_data['wind_units']}).\")\n",
        "        else:\n",
        "            print(f\"  It uses less than or equal to solar energy ({city_data['solar_units']}) than wind energy ({city_data['wind_units']}).\")\n",
        "    else:\n",
        "        print(f\"{city_data['city']} uses a total of {total_units} units (<200).\")"
      ],
      "execution_count": 32,
      "outputs": [
        {
          "output_type": "stream",
          "name": "stdout",
          "text": [
            "Bangalore uses a total of 200 units (>=200).\n",
            "  It uses more solar energy (120) than wind energy (80).\n",
            "Mysore uses a total of 130 units (<200).\n",
            "Chennai uses a total of 70 units (<200).\n",
            "Hyderabad uses a total of 225 units (>=200).\n",
            "  It uses more solar energy (130) than wind energy (95).\n",
            "Coimbatore uses a total of 45 units (<200).\n"
          ]
        }
      ]
    },
    {
      "cell_type": "code",
      "source": [],
      "metadata": {
        "id": "zGEBjppN3r_O"
      },
      "execution_count": null,
      "outputs": []
    },
    {
      "cell_type": "code",
      "metadata": {
        "colab": {
          "base_uri": "https://localhost:8080/"
        },
        "id": "947070a9",
        "outputId": "d9cf72c1-da6e-498d-f2e7-8cfccb8aeae4"
      },
      "source": [
        "for city_data in green_energy_data:\n",
        "    if city_data[\"wind_units\"] < 20:\n",
        "        print(f\"Stopping the loop: {city_data['city']} uses less than 20 wind units ({city_data['wind_units']}).\")\n",
        "        break\n",
        "    print(f\"{city_data['city']} uses {city_data['wind_units']} wind units.\")"
      ],
      "execution_count": 33,
      "outputs": [
        {
          "output_type": "stream",
          "name": "stdout",
          "text": [
            "Bangalore uses 80 wind units.\n",
            "Mysore uses 40 wind units.\n",
            "Chennai uses 20 wind units.\n",
            "Hyderabad uses 95 wind units.\n",
            "Stopping the loop: Coimbatore uses less than 20 wind units (15).\n"
          ]
        }
      ]
    },
    {
      "cell_type": "code",
      "metadata": {
        "colab": {
          "base_uri": "https://localhost:8080/"
        },
        "id": "af465963",
        "outputId": "f2072b7f-6c03-421c-dd8b-60b82b7c87b0"
      },
      "source": [
        "for city_data in green_energy_data:\n",
        "    if city_data[\"solar_units\"] < 50:\n",
        "        print(f\"Skipping {city_data['city']} (uses less than 50 solar units: {city_data['solar_units']})\")\n",
        "        continue\n",
        "    print(f\"{city_data['city']} uses {city_data['solar_units']} solar units.\")"
      ],
      "execution_count": 34,
      "outputs": [
        {
          "output_type": "stream",
          "name": "stdout",
          "text": [
            "Bangalore uses 120 solar units.\n",
            "Mysore uses 90 solar units.\n",
            "Chennai uses 50 solar units.\n",
            "Hyderabad uses 130 solar units.\n",
            "Skipping Coimbatore (uses less than 50 solar units: 30)\n"
          ]
        }
      ]
    },
    {
      "cell_type": "code",
      "metadata": {
        "colab": {
          "base_uri": "https://localhost:8080/"
        },
        "id": "261f6132",
        "outputId": "5ed87861-fad0-4d74-ab39-de480e03f15f"
      },
      "source": [
        "for city_data in green_energy_data:\n",
        "    if city_data[\"solar_units\"] < 50:\n",
        "        # Placeholder for future code\n",
        "        pass\n",
        "    else:\n",
        "        print(f\"{city_data['city']} uses {city_data['solar_units']} solar units (50 or more).\")"
      ],
      "execution_count": 35,
      "outputs": [
        {
          "output_type": "stream",
          "name": "stdout",
          "text": [
            "Bangalore uses 120 solar units (50 or more).\n",
            "Mysore uses 90 solar units (50 or more).\n",
            "Chennai uses 50 solar units (50 or more).\n",
            "Hyderabad uses 130 solar units (50 or more).\n"
          ]
        }
      ]
    },
    {
      "cell_type": "code",
      "metadata": {
        "colab": {
          "base_uri": "https://localhost:8080/"
        },
        "id": "134c03cd",
        "outputId": "c1135ce8-5573-4d87-826b-f8dca63d369b"
      },
      "source": [
        "for city_data in green_energy_data:\n",
        "    print(f\"{city_data['city']}: Solar Units - {city_data['solar_units']}, Wind Units - {city_data['wind_units']}\")"
      ],
      "execution_count": 36,
      "outputs": [
        {
          "output_type": "stream",
          "name": "stdout",
          "text": [
            "Bangalore: Solar Units - 120, Wind Units - 80\n",
            "Mysore: Solar Units - 90, Wind Units - 40\n",
            "Chennai: Solar Units - 50, Wind Units - 20\n",
            "Hyderabad: Solar Units - 130, Wind Units - 95\n",
            "Coimbatore: Solar Units - 30, Wind Units - 15\n"
          ]
        }
      ]
    },
    {
      "cell_type": "code",
      "metadata": {
        "colab": {
          "base_uri": "https://localhost:8080/"
        },
        "id": "c00537ba",
        "outputId": "1aeaa51f-d8a3-4f32-abad-9f9d973895ba"
      },
      "source": [
        "index = 0\n",
        "while index < len(green_energy_data):\n",
        "    city_data = green_energy_data[index]\n",
        "    total_energy = city_data[\"solar_units\"] + city_data[\"wind_units\"]\n",
        "    print(f\"{city_data['city']}: Total Green Energy - {total_energy}\")\n",
        "    index += 1"
      ],
      "execution_count": 37,
      "outputs": [
        {
          "output_type": "stream",
          "name": "stdout",
          "text": [
            "Bangalore: Total Green Energy - 200\n",
            "Mysore: Total Green Energy - 130\n",
            "Chennai: Total Green Energy - 70\n",
            "Hyderabad: Total Green Energy - 225\n",
            "Coimbatore: Total Green Energy - 45\n"
          ]
        }
      ]
    },
    {
      "cell_type": "code",
      "source": [],
      "metadata": {
        "id": "2WUGXoF63_DC"
      },
      "execution_count": null,
      "outputs": []
    }
  ]
}