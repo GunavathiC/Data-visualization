{
 "cells": [
  {
   "cell_type": "markdown",
   "metadata": {},
   "source": [
    "# ✅ NumPy Operations on Green AI Dataset\n",
    "This notebook demonstrates all major NumPy operations using a simple dataset of solar and wind energy usage across five cities in India."
   ]
  },
  {
   "cell_type": "code",
   "execution_count": 1,
   "metadata": {},
   "outputs": [
    {
     "data": {
      "text/plain": [
       "array([120, 150, 180,  90, 130])"
      ]
     },
     "execution_count": 1,
     "metadata": {},
     "output_type": "execute_result"
    }
   ],
   "source": [
    "import numpy as np\n",
    "\n",
    "# Dataset: Green energy usage in MW\n",
    "cities = np.array(['Delhi', 'Mumbai', 'Bangalore', 'Hyderabad', 'Chennai'])\n",
    "solar_energy = np.array([120, 150, 180, 90, 130])\n",
    "wind_energy = np.array([100, 130, 160, 80, 110])\n",
    "solar_energy"
   ]
  },
  {
   "cell_type": "markdown",
   "metadata": {},
   "source": [
    "## 1. Array Creation"
   ]
  },
  {
   "cell_type": "code",
   "execution_count": 2,
   "metadata": {},
   "outputs": [
    {
     "name": "stdout",
     "output_type": "stream",
     "text": [
      "Array a: [1 2 3]\n",
      "Zeros b: [0. 0. 0.]\n",
      "Ones c:\n",
      " [[1. 1.]\n",
      " [1. 1.]]\n",
      "Arange d: [0 2 4 6 8]\n",
      "Linspace e: [0.   0.25 0.5  0.75 1.  ]\n",
      "Random f: [0.18450165 0.29616133 0.28038385 0.11498914 0.28747856 0.48185134\n",
      " 0.41091372 0.16883658 0.57642009 0.86845618]\n"
     ]
    }
   ],
   "source": [
    "a = np.array([1, 2, 3])\n",
    "b = np.zeros(3)\n",
    "c = np.ones((2, 2))\n",
    "d = np.arange(0, 10, 2)\n",
    "e = np.linspace(0, 1, 5)\n",
    "f = np.random.rand(10)\n",
    "\n",
    "print(\"Array a:\", a)\n",
    "print(\"Zeros b:\", b)\n",
    "print(\"Ones c:\\n\", c)\n",
    "print(\"Arange d:\", d)\n",
    "print(\"Linspace e:\", e)\n",
    "print(\"Random f:\", f)"
   ]
  },
  {
   "cell_type": "markdown",
   "metadata": {},
   "source": [
    "## 2. Array Attributes"
   ]
  },
  {
   "cell_type": "code",
   "execution_count": 3,
   "metadata": {},
   "outputs": [
    {
     "name": "stdout",
     "output_type": "stream",
     "text": [
      "Shape: (5,)\n",
      "Datatype: int64\n",
      "Dimensions: 1\n"
     ]
    }
   ],
   "source": [
    "print(\"Shape:\", solar_energy.shape)\n",
    "print(\"Datatype:\", solar_energy.dtype)\n",
    "print(\"Dimensions:\", solar_energy.ndim)"
   ]
  },
  {
   "cell_type": "markdown",
   "metadata": {},
   "source": [
    "## 3. Indexing and Slicing"
   ]
  },
  {
   "cell_type": "code",
   "execution_count": 4,
   "metadata": {},
   "outputs": [
    {
     "name": "stdout",
     "output_type": "stream",
     "text": [
      "First city: Delhi\n",
      "First 3 solar energy values: [120 150 180]\n"
     ]
    }
   ],
   "source": [
    "print(\"First city:\", cities[0])\n",
    "print(\"First 3 solar energy values:\", solar_energy[:3])"
   ]
  },
  {
   "cell_type": "markdown",
   "metadata": {},
   "source": [
    "## 4. Arithmetic Operations"
   ]
  },
  {
   "cell_type": "code",
   "execution_count": null,
   "metadata": {},
   "outputs": [
    {
     "name": "stdout",
     "output_type": "stream",
     "text": [
      "Total energy: [220 280 340 170 240]\n",
      "Difference in energy: [20 20 20 10 20]\n",
      "Squared solar energy: [14400 22500 32400  8100 16900]\n"
     ]
    }
   ],
   "source": [
    "total_energy = solar_energy + wind_energy\n",
    "diff_energy = solar_energy - wind_energy\n",
    "energy_squared = solar_energy ** 2\n",
    "\n",
    "print(\"Total energy:\", total_energy)\n",
    "print(\"Difference in energy:\", diff_energy)\n",
    "print(\"Squared solar energy:\", energy_squared)"
   ]
  },
  {
   "cell_type": "markdown",
   "metadata": {},
   "source": [
    "## 5. Statistical Operations"
   ]
  },
  {
   "cell_type": "code",
   "execution_count": 6,
   "metadata": {},
   "outputs": [
    {
     "name": "stdout",
     "output_type": "stream",
     "text": [
      "Mean (solar): 134.0\n",
      "Median (wind): 110.0\n",
      "Standard Deviation (total): 57.271284253105414\n",
      "Variance (total): 3280.0\n",
      "Minimum (solar): 90\n",
      "Maximum (solar): 180\n"
     ]
    }
   ],
   "source": [
    "print(\"Mean (solar):\", np.mean(solar_energy))\n",
    "print(\"Median (wind):\", np.median(wind_energy))\n",
    "print(\"Standard Deviation (total):\", np.std(total_energy))\n",
    "print(\"Variance (total):\", np.var(total_energy))\n",
    "print(\"Minimum (solar):\", np.min(solar_energy))\n",
    "print(\"Maximum (solar):\", np.max(solar_energy))"
   ]
  },
  {
   "cell_type": "markdown",
   "metadata": {},
   "source": [
    "## 6. Reshape and Transpose"
   ]
  },
  {
   "cell_type": "code",
   "execution_count": 7,
   "metadata": {},
   "outputs": [
    {
     "name": "stdout",
     "output_type": "stream",
     "text": [
      "Original Matrix:\n",
      " [[120 150 180  90 130]\n",
      " [100 130 160  80 110]]\n",
      "Transposed Matrix:\n",
      " [[120 100]\n",
      " [150 130]\n",
      " [180 160]\n",
      " [ 90  80]\n",
      " [130 110]]\n"
     ]
    }
   ],
   "source": [
    "energy_matrix = np.array([solar_energy, wind_energy])\n",
    "print(\"Original Matrix:\\n\", energy_matrix)\n",
    "print(\"Transposed Matrix:\\n\", energy_matrix.T)"
   ]
  },
  {
   "cell_type": "markdown",
   "metadata": {},
   "source": [
    "## 7. Boolean Indexing"
   ]
  },
  {
   "cell_type": "code",
   "execution_count": 8,
   "metadata": {},
   "outputs": [
    {
     "name": "stdout",
     "output_type": "stream",
     "text": [
      "Cities with solar > 120: ['Mumbai' 'Bangalore' 'Chennai']\n"
     ]
    }
   ],
   "source": [
    "print(\"Cities with solar > 120:\", cities[solar_energy > 120])"
   ]
  },
  {
   "cell_type": "markdown",
   "metadata": {},
   "source": [
    "## 8. Aggregation Functions"
   ]
  },
  {
   "cell_type": "code",
   "execution_count": 9,
   "metadata": {},
   "outputs": [
    {
     "name": "stdout",
     "output_type": "stream",
     "text": [
      "Total solar energy: 670\n",
      "Product of wind energy: 18304000000\n",
      "Cumulative sum (solar): [120 270 450 540 670]\n"
     ]
    }
   ],
   "source": [
    "print(\"Total solar energy:\", np.sum(solar_energy))\n",
    "print(\"Product of wind energy:\", np.prod(wind_energy))\n",
    "print(\"Cumulative sum (solar):\", np.cumsum(solar_energy))"
   ]
  },
  {
   "cell_type": "markdown",
   "metadata": {},
   "source": [
    "## 9. Mathematical Functions"
   ]
  },
  {
   "cell_type": "code",
   "execution_count": 10,
   "metadata": {},
   "outputs": [
    {
     "name": "stdout",
     "output_type": "stream",
     "text": [
      "Square root (solar): [10.95445115 12.24744871 13.41640786  9.48683298 11.40175425]\n",
      "Exponential (wind): [2.71828183 2.71828183 2.71828183 1.         2.71828183]\n",
      "Natural log (solar): [4.78749174 5.01063529 5.19295685 4.49980967 4.86753445]\n",
      "Absolute difference: [20 20 20 10 20]\n"
     ]
    }
   ],
   "source": [
    "print(\"Square root (solar):\", np.sqrt(solar_energy))\n",
    "print(\"Exponential (wind):\", np.exp(wind_energy // 100))\n",
    "print(\"Natural log (solar):\", np.log(solar_energy))\n",
    "print(\"Absolute difference:\", np.abs(solar_energy - wind_energy))"
   ]
  },
  {
   "cell_type": "markdown",
   "metadata": {},
   "source": [
    "## 10. Sorting and Searching"
   ]
  },
  {
   "cell_type": "code",
   "execution_count": 11,
   "metadata": {},
   "outputs": [
    {
     "name": "stdout",
     "output_type": "stream",
     "text": [
      "Sorted total energy: [170 220 240 280 340]\n",
      "Index of max solar: 2\n",
      "Index of min wind: 3\n"
     ]
    }
   ],
   "source": [
    "print(\"Sorted total energy:\", np.sort(total_energy))\n",
    "print(\"Index of max solar:\", np.argmax(solar_energy))\n",
    "print(\"Index of min wind:\", np.argmin(wind_energy))"
   ]
  },
  {
   "cell_type": "markdown",
   "metadata": {},
   "source": [
    "## 11. Broadcasting"
   ]
  },
  {
   "cell_type": "code",
   "execution_count": 12,
   "metadata": {},
   "outputs": [
    {
     "name": "stdout",
     "output_type": "stream",
     "text": [
      "Solar energy increased by 10%: [132. 165. 198.  99. 143.]\n"
     ]
    }
   ],
   "source": [
    "increased_solar = solar_energy * 1.1\n",
    "print(\"Solar energy increased by 10%:\", increased_solar)"
   ]
  },
  {
   "cell_type": "markdown",
   "metadata": {},
   "source": [
    "## 12. Stacking Arrays"
   ]
  },
  {
   "cell_type": "code",
   "execution_count": 13,
   "metadata": {},
   "outputs": [
    {
     "name": "stdout",
     "output_type": "stream",
     "text": [
      "Vertical stack:\n",
      " [[120 150 180  90 130]\n",
      " [100 130 160  80 110]]\n",
      "Horizontal stack:\n",
      " [120 150 180  90 130 100 130 160  80 110]\n"
     ]
    }
   ],
   "source": [
    "v_stack = np.vstack((solar_energy, wind_energy))\n",
    "h_stack = np.hstack((solar_energy, wind_energy))\n",
    "print(\"Vertical stack:\\n\", v_stack)\n",
    "print(\"Horizontal stack:\\n\", h_stack)"
   ]
  },
  {
   "cell_type": "code",
   "execution_count": null,
   "id": "40e0084a",
   "metadata": {},
   "outputs": [],
   "source": []
  },
  {
   "cell_type": "code",
   "execution_count": null,
   "id": "97106cf9",
   "metadata": {},
   "outputs": [],
   "source": []
  },
  {
   "cell_type": "markdown",
   "metadata": {},
   "source": [
    "## 13. Copying and Memory"
   ]
  },
  {
   "cell_type": "code",
   "execution_count": 14,
   "metadata": {},
   "outputs": [
    {
     "name": "stdout",
     "output_type": "stream",
     "text": [
      "Original solar: [120 888 180  90 130]\n",
      "Copied solar (deep): [999 150 180  90 130]\n",
      "Reference solar (shallow): [120 888 180  90 130]\n"
     ]
    }
   ],
   "source": [
    "copy_solar = solar_energy.copy()\n",
    "ref_solar = solar_energy\n",
    "\n",
    "copy_solar[0] = 999\n",
    "ref_solar[1] = 888\n",
    "\n",
    "print(\"Original solar:\", solar_energy)\n",
    "print(\"Copied solar (deep):\", copy_solar)\n",
    "print(\"Reference solar (shallow):\", ref_solar)"
   ]
  },
  {
   "cell_type": "markdown",
   "metadata": {},
   "source": [
    "## 14. Set Operations"
   ]
  },
  {
   "cell_type": "code",
   "execution_count": 15,
   "metadata": {},
   "outputs": [
    {
     "name": "stdout",
     "output_type": "stream",
     "text": [
      "Union: [1 2 3 4 5 6]\n",
      "Intersection: [3 4]\n",
      "Difference a - b: [1 2]\n"
     ]
    }
   ],
   "source": [
    "a = np.array([1, 2, 3, 4])\n",
    "b = np.array([3, 4, 5, 6])\n",
    "\n",
    "print(\"Union:\", np.union1d(a, b))\n",
    "print(\"Intersection:\", np.intersect1d(a, b))\n",
    "print(\"Difference a - b:\", np.setdiff1d(a, b))"
   ]
  },
  {
   "cell_type": "code",
   "execution_count": 23,
   "id": "76c4d876",
   "metadata": {},
   "outputs": [],
   "source": [
    "w1=np.arange(12).reshape(3,4)\n",
    "w2=np.arange(12,24).reshape(3,4)"
   ]
  },
  {
   "cell_type": "code",
   "execution_count": null,
   "id": "c1ee94cc",
   "metadata": {},
   "outputs": [],
   "source": []
  },
  {
   "cell_type": "code",
   "execution_count": 17,
   "id": "af2aa166",
   "metadata": {},
   "outputs": [
    {
     "data": {
      "text/plain": [
       "array([[ 0,  1,  2,  3],\n",
       "       [ 4,  5,  6,  7],\n",
       "       [ 8,  9, 10, 11]])"
      ]
     },
     "execution_count": 17,
     "metadata": {},
     "output_type": "execute_result"
    }
   ],
   "source": [
    "w1"
   ]
  },
  {
   "cell_type": "code",
   "execution_count": 24,
   "id": "14a623ec",
   "metadata": {},
   "outputs": [
    {
     "data": {
      "text/plain": [
       "array([[12, 13, 14, 15],\n",
       "       [16, 17, 18, 19],\n",
       "       [20, 21, 22, 23]])"
      ]
     },
     "execution_count": 24,
     "metadata": {},
     "output_type": "execute_result"
    }
   ],
   "source": [
    "w2"
   ]
  },
  {
   "cell_type": "code",
   "execution_count": 25,
   "id": "07ce856f",
   "metadata": {},
   "outputs": [
    {
     "data": {
      "text/plain": [
       "array([[ 0,  1,  2,  3, 12, 13, 14, 15],\n",
       "       [ 4,  5,  6,  7, 16, 17, 18, 19],\n",
       "       [ 8,  9, 10, 11, 20, 21, 22, 23]])"
      ]
     },
     "execution_count": 25,
     "metadata": {},
     "output_type": "execute_result"
    }
   ],
   "source": [
    "np.hstack((w1,w2))"
   ]
  },
  {
   "cell_type": "code",
   "execution_count": 26,
   "id": "c193cd85",
   "metadata": {},
   "outputs": [
    {
     "data": {
      "text/plain": [
       "array([[ 0,  1,  2,  3],\n",
       "       [ 4,  5,  6,  7],\n",
       "       [ 8,  9, 10, 11],\n",
       "       [12, 13, 14, 15],\n",
       "       [16, 17, 18, 19],\n",
       "       [20, 21, 22, 23]])"
      ]
     },
     "execution_count": 26,
     "metadata": {},
     "output_type": "execute_result"
    }
   ],
   "source": [
    "np.vstack((w1,w2))"
   ]
  },
  {
   "cell_type": "code",
   "execution_count": null,
   "id": "a88772da",
   "metadata": {},
   "outputs": [],
   "source": []
  }
 ],
 "metadata": {
  "kernelspec": {
   "display_name": "Python 3",
   "language": "python",
   "name": "python3"
  },
  "language_info": {
   "codemirror_mode": {
    "name": "ipython",
    "version": 3
   },
   "file_extension": ".py",
   "mimetype": "text/x-python",
   "name": "python",
   "nbconvert_exporter": "python",
   "pygments_lexer": "ipython3",
   "version": "3.13.4"
  }
 },
 "nbformat": 4,
 "nbformat_minor": 5
}
