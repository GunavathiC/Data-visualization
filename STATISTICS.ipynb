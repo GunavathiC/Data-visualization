{
  "nbformat": 4,
  "nbformat_minor": 0,
  "metadata": {
    "colab": {
      "provenance": [],
      "authorship_tag": "ABX9TyOgw1NIYwY7K3jFIIf+uOo+",
      "include_colab_link": true
    },
    "kernelspec": {
      "name": "python3",
      "display_name": "Python 3"
    },
    "language_info": {
      "name": "python"
    }
  },
  "cells": [
    {
      "cell_type": "markdown",
      "metadata": {
        "id": "view-in-github",
        "colab_type": "text"
      },
      "source": [
        "<a href=\"https://colab.research.google.com/github/GunavathiC/Data-visualization/blob/main/STATISTICS.ipynb\" target=\"_parent\"><img src=\"https://colab.research.google.com/assets/colab-badge.svg\" alt=\"Open In Colab\"/></a>"
      ]
    },
    {
      "cell_type": "code",
      "execution_count": 62,
      "metadata": {
        "id": "ivMM3BjCESO8"
      },
      "outputs": [],
      "source": [
        "import numpy as np\n",
        "import statistics as stats\n",
        "import matplotlib.pyplot as plt\n",
        "import seaborn as sns\n",
        "import pandas as pd\n",
        "from statistics import mode"
      ]
    },
    {
      "cell_type": "code",
      "source": [
        "data = {\n",
        "    \"Year\": [2015, 2016, 2017, 2018, 2019, 2020, 2021, 2022, 2023, 2024],\n",
        "    \"Sales\": [220, 250, 270, 300, 310, 280, 350, 370, 400, 420],\n",
        "    \"Profit\": [60, 70, 80, 90, 100, 95, 110, 120, 130, 140],\n",
        "    \"Category\": [\"A\", \"B\", \"A\", \"C\", \"B\", \"A\", \"C\", \"B\", \"C\", \"A\"],\n",
        "    \"Growth\": [0.10, 0.12, 0.15, 0.08, 0.20, 0.18, 0.14, 0.22, 0.19, 0.16]\n",
        "}"
      ],
      "metadata": {
        "id": "DxGQZPrFEdXe"
      },
      "execution_count": 3,
      "outputs": []
    },
    {
      "cell_type": "code",
      "source": [
        "data =[120, 135, 150, 160,165, 170, 180, 200, 210, 220, 250]\n",
        "data.sort()"
      ],
      "metadata": {
        "id": "5KViA7RvFIEW"
      },
      "execution_count": 20,
      "outputs": []
    },
    {
      "cell_type": "code",
      "source": [
        "mean_val = np.mean(data)\n",
        "median_val = np.median(data)\n",
        "mode_val = stats.mode(data)\n",
        "print(f\"Mean: {mean_val}\")\n",
        "print(f\"Median: {median_val}\")\n",
        "print(f\"Mode: {mode_val}\")"
      ],
      "metadata": {
        "colab": {
          "base_uri": "https://localhost:8080/"
        },
        "id": "WZgF2I6eFtA7",
        "outputId": "679c9903-40e0-4fc1-de0c-cd9f6f661429"
      },
      "execution_count": 9,
      "outputs": [
        {
          "output_type": "stream",
          "name": "stdout",
          "text": [
            "Mean: 178.1818181818182\n",
            "Median: 170.0\n",
            "Mode: 120\n"
          ]
        }
      ]
    },
    {
      "cell_type": "code",
      "source": [
        "try:\n",
        "  mode_val = stats.mode(data)\n",
        "except:\n",
        "  mode_val = \"NO UNIQUE MODE\"\n",
        "print(mode_val)"
      ],
      "metadata": {
        "colab": {
          "base_uri": "https://localhost:8080/"
        },
        "id": "G3HtqYzzF9I2",
        "outputId": "80cabbe2-d546-4765-d171-19a59b7fcbe1"
      },
      "execution_count": 17,
      "outputs": [
        {
          "output_type": "stream",
          "name": "stdout",
          "text": [
            "250\n"
          ]
        }
      ]
    },
    {
      "cell_type": "code",
      "source": [
        "variance_val = np.var(data)\n",
        "print(variance_val)"
      ],
      "metadata": {
        "colab": {
          "base_uri": "https://localhost:8080/"
        },
        "id": "J6oNQpPXG1Pr",
        "outputId": "715e5b7c-4431-4899-c115-e9e6fe740f48"
      },
      "execution_count": 21,
      "outputs": [
        {
          "output_type": "stream",
          "name": "stdout",
          "text": [
            "1364.8760330578511\n"
          ]
        }
      ]
    },
    {
      "cell_type": "code",
      "source": [
        "standard_dev = np.std(data)\n",
        "print(standard_dev)"
      ],
      "metadata": {
        "colab": {
          "base_uri": "https://localhost:8080/"
        },
        "id": "JWx1zJgdIQmD",
        "outputId": "7485e066-c0ba-4f9d-8208-fa2f9df2a03c"
      },
      "execution_count": 22,
      "outputs": [
        {
          "output_type": "stream",
          "name": "stdout",
          "text": [
            "36.94422868402927\n"
          ]
        }
      ]
    },
    {
      "cell_type": "code",
      "source": [
        "cv_val=(standard_dev/mean_val)*100\n",
        "print(cv_val)"
      ],
      "metadata": {
        "colab": {
          "base_uri": "https://localhost:8080/"
        },
        "id": "L14Vo_aWIlT4",
        "outputId": "a2ea6ba5-3b9d-42b9-b606-9539b4820938"
      },
      "execution_count": 27,
      "outputs": [
        {
          "output_type": "stream",
          "name": "stdout",
          "text": [
            "20.734005894098058\n"
          ]
        }
      ]
    },
    {
      "cell_type": "code",
      "source": [
        "variance_val = np.var(data)\n",
        "std_val = np.std(data)\n",
        "print(f\"Variance: {variance_val}\")\n",
        "print(f\"Standard Deviation: {std_val}\")"
      ],
      "metadata": {
        "colab": {
          "base_uri": "https://localhost:8080/"
        },
        "id": "Y4PxGUFcJFyT",
        "outputId": "80ca6eaf-86db-4315-d663-a040ac67be8a"
      },
      "execution_count": 28,
      "outputs": [
        {
          "output_type": "stream",
          "name": "stdout",
          "text": [
            "Variance: 1364.8760330578511\n",
            "Standard Deviation: 36.94422868402927\n"
          ]
        }
      ]
    },
    {
      "cell_type": "code",
      "source": [
        "range_val=(max(data)-min(data))\n",
        "print(f\"Range: {range_val}\")"
      ],
      "metadata": {
        "colab": {
          "base_uri": "https://localhost:8080/"
        },
        "id": "-w-ALbbSJc56",
        "outputId": "15daa95b-0f06-481d-aca3-f314f96a5823"
      },
      "execution_count": 29,
      "outputs": [
        {
          "output_type": "stream",
          "name": "stdout",
          "text": [
            "Range: 130\n"
          ]
        }
      ]
    },
    {
      "cell_type": "code",
      "source": [],
      "metadata": {
        "id": "J-cbELuMJkr_"
      },
      "execution_count": null,
      "outputs": []
    },
    {
      "cell_type": "markdown",
      "source": [
        "**Box plot**"
      ],
      "metadata": {
        "id": "K3VTcYhyJmth"
      }
    },
    {
      "cell_type": "code",
      "source": [
        "q1 = np.percentile(data,25)\n",
        "q2 = np.percentile(data,50)\n",
        "q3 = np.percentile(data,75)\n",
        "print(q1)\n",
        "print(q2)\n",
        "print(q3)\n"
      ],
      "metadata": {
        "colab": {
          "base_uri": "https://localhost:8080/"
        },
        "id": "njzJf8mGJrtF",
        "outputId": "ffa63bc0-5937-428d-d755-7fd43a5a09e7"
      },
      "execution_count": 32,
      "outputs": [
        {
          "output_type": "stream",
          "name": "stdout",
          "text": [
            "155.0\n",
            "170.0\n",
            "205.0\n"
          ]
        }
      ]
    },
    {
      "cell_type": "code",
      "source": [
        "IQR = q3-q1\n",
        "print(IQR)"
      ],
      "metadata": {
        "colab": {
          "base_uri": "https://localhost:8080/"
        },
        "id": "72eOVV__J9fF",
        "outputId": "4215124a-6f8f-4de3-c61a-c081399c1726"
      },
      "execution_count": 34,
      "outputs": [
        {
          "output_type": "stream",
          "name": "stdout",
          "text": [
            "50.0\n"
          ]
        }
      ]
    },
    {
      "cell_type": "code",
      "source": [
        "lower_bound = q1-1.5 * IQR\n",
        "upper_bound = q3+1.5 * IQR\n",
        "print(lower_bound)\n",
        "print(upper_bound)\n"
      ],
      "metadata": {
        "colab": {
          "base_uri": "https://localhost:8080/"
        },
        "id": "CMh1wxcQLUVy",
        "outputId": "62e8d86f-8865-4532-f289-8cc7c6f6137e"
      },
      "execution_count": 36,
      "outputs": [
        {
          "output_type": "stream",
          "name": "stdout",
          "text": [
            "80.0\n",
            "280.0\n"
          ]
        }
      ]
    },
    {
      "cell_type": "code",
      "source": [
        "plt.figure(figsize=(8,5))\n",
        "sns.boxplot(data=data,width=0.3,color=\"blue\")\n",
        "plt.title(\"Box plot\")\n",
        "plt.grid(True)\n",
        "plt.show()\n"
      ],
      "metadata": {
        "colab": {
          "base_uri": "https://localhost:8080/",
          "height": 449
        },
        "id": "JFn6CYLkLjZG",
        "outputId": "8d1a038c-0b2c-4934-9d49-e80bfceb89d9"
      },
      "execution_count": 41,
      "outputs": [
        {
          "output_type": "display_data",
          "data": {
            "text/plain": [
              "<Figure size 800x500 with 1 Axes>"
            ],
            "image/png": "[encoded data removed]"
          },
          "metadata": {}
        }
      ]
    },
    {
      "cell_type": "code",
      "source": [
        "data={\n",
        "    \"Marks\":[70,75,80,85,90,85,75,80,85,90]\n",
        "}\n",
        "df=pd.DataFrame(data)\n",
        "marks=df[\"Marks\"]\n",
        "print(data)\n",
        "Marks = df.sort_values(by=\"Marks\", ascending=True)\n",
        "print(Marks)"
      ],
      "metadata": {
        "colab": {
          "base_uri": "https://localhost:8080/"
        },
        "id": "wSss5NMsMR5t",
        "outputId": "f5a7bc95-5317-4f8a-c813-c46206567782"
      },
      "execution_count": 57,
      "outputs": [
        {
          "output_type": "stream",
          "name": "stdout",
          "text": [
            "{'Marks': [70, 75, 80, 85, 90, 85, 75, 80, 85, 90]}\n",
            "   Marks\n",
            "0     70\n",
            "1     75\n",
            "6     75\n",
            "2     80\n",
            "7     80\n",
            "3     85\n",
            "5     85\n",
            "8     85\n",
            "4     90\n",
            "9     90\n"
          ]
        }
      ]
    },
    {
      "cell_type": "code",
      "source": [
        "mean_val = marks.mean()\n",
        "median_val = marks.median()\n",
        "mode_val = stats.mode(marks)\n",
        "variance_val = np.var(marks)\n",
        "cv_val=(standard_dev/mean_val)*100\n",
        "range_val=(max(marks)-min(marks))\n",
        "q1 = np.percentile(marks,25)\n",
        "q2 = np.percentile(marks,50)\n",
        "q3 = np.percentile(marks,75)\n",
        "IQR = q3-q1\n",
        "lower_bound = q1-1.5 * IQR\n",
        "upper_bound = q3+1.5 * IQR\n",
        "print(lower_bound)\n",
        "print(upper_bound)\n",
        "print(IQR)\n",
        "print(q1)\n",
        "print(q2)\n",
        "print(q3)\n",
        "print(f\"Range: {range_val}\")\n",
        "print(cv_val)\n",
        "print(variance_val)\n",
        "print(f\"Mean: {mean_val}\")\n",
        "print(f\"Median: {median_val}\")\n",
        "print(f\"Mode: {mode_val}\")"
      ],
      "metadata": {
        "colab": {
          "base_uri": "https://localhost:8080/"
        },
        "id": "8kllUbJoPBfx",
        "outputId": "9c0cd29f-a581-4e60-8961-c2f5c8a6d008"
      },
      "execution_count": 71,
      "outputs": [
        {
          "output_type": "stream",
          "name": "stdout",
          "text": [
            "63.125\n",
            "98.125\n",
            "8.75\n",
            "76.25\n",
            "82.5\n",
            "85.0\n",
            "Range: 20\n",
            "45.33034194359419\n",
            "40.25\n",
            "Mean: 81.5\n",
            "Median: 82.5\n",
            "Mode: 85\n"
          ]
        }
      ]
    },
    {
      "cell_type": "code",
      "source": [
        "plt.figure(figsize=(8,5))\n",
        "sns.boxplot(marks=marks,width=0.3,color=\"blue\")\n",
        "plt.title(\"Box plot\")\n",
        "plt.grid(True)\n",
        "plt.show()"
      ],
      "metadata": {
        "colab": {
          "base_uri": "https://localhost:8080/",
          "height": 468
        },
        "id": "4Hw5twQHPfvj",
        "outputId": "e5c84ad5-2e65-488c-c4b1-e4a7a9c3c314"
      },
      "execution_count": 72,
      "outputs": [
        {
          "output_type": "display_data",
          "data": {
            "text/plain": [
              "<Figure size 800x500 with 1 Axes>"
            ],
            "image/png": "[encoded data removed]"
          },
          "metadata": {}
        }
      ]
    },
    {
      "cell_type": "code",
      "source": [
        "plt.figure(figsize=(8, 5))\n",
        "sns.boxplot(data=data,width=0.3,color=\"skyblue\")\n",
        "plt.title(\"Box Plot of Exam Scores\")\n",
        "plt.xlabel(\"Exam Scores\")\n",
        "plt.grid(True)\n",
        "plt.show()"
      ],
      "metadata": {
        "colab": {
          "base_uri": "https://localhost:8080/",
          "height": 487
        },
        "id": "xxLs-dkTQuof",
        "outputId": "c499681f-1b2d-4ae1-ce9f-93d34341c06b"
      },
      "execution_count": 73,
      "outputs": [
        {
          "output_type": "display_data",
          "data": {
            "text/plain": [
              "<Figure size 800x500 with 1 Axes>"
            ],
            "image/png": "[encoded data removed]"
          },
          "metadata": {}
        }
      ]
    },
    {
      "cell_type": "code",
      "source": [],
      "metadata": {
        "id": "lMfRtsikRN91"
      },
      "execution_count": null,
      "outputs": []
    }
  ]
}