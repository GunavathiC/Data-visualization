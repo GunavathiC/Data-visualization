{
  "nbformat": 4,
  "nbformat_minor": 0,
  "metadata": {
    "colab": {
      "provenance": [],
      "authorship_tag": "ABX9TyPxpYYFCqVPT13d6LI7ZE2n",
      "include_colab_link": true
    },
    "kernelspec": {
      "name": "python3",
      "display_name": "Python 3"
    },
    "language_info": {
      "name": "python"
    }
  },
  "cells": [
    {
      "cell_type": "markdown",
      "metadata": {
        "id": "view-in-github",
        "colab_type": "text"
      },
      "source": [
        "<a href=\"https://colab.research.google.com/github/GunavathiC/Data-visualization/blob/main/OOP's.ipynb\" target=\"_parent\"><img src=\"https://colab.research.google.com/assets/colab-badge.svg\" alt=\"Open In Colab\"/></a>"
      ]
    },
    {
      "cell_type": "code",
      "execution_count": 1,
      "metadata": {
        "colab": {
          "base_uri": "https://localhost:8080/"
        },
        "id": "6QRidhbccRae",
        "outputId": "e7bd2a67-695e-465e-f684-9f3078f5ed05"
      },
      "outputs": [
        {
          "output_type": "stream",
          "name": "stdout",
          "text": [
            "Blue\n",
            "Skoda\n"
          ]
        }
      ],
      "source": [
        "# Creating a class\n",
        "class Car:\n",
        "    colour = 'Blue'\n",
        "    brand = 'Skoda'\n",
        "\n",
        "# Creating an object from the class\n",
        "car1 = Car()\n",
        "\n",
        "# Accessing variables using the object\n",
        "print(car1.colour)\n",
        "print(car1.brand)"
      ]
    },
    {
      "cell_type": "code",
      "source": [],
      "metadata": {
        "id": "Ly1MkDGxcSu7"
      },
      "execution_count": null,
      "outputs": []
    },
    {
      "cell_type": "markdown",
      "source": [
        "**CONSTRUCTOR**"
      ],
      "metadata": {
        "id": "Zbrwueo-c5pa"
      }
    },
    {
      "cell_type": "code",
      "source": [
        "class Student:\n",
        "    def __init__(self, name, age):  # Constructor\n",
        "        self.name = name\n",
        "        self.age = age\n",
        "\n",
        "    def show(self):                 # methods of the clss(3 lines)\n",
        "        print(\"Name:\", self.name)   # instances of class\n",
        "        print(\"Age:\", self.age)\n",
        "\n",
        "# Creating object with values\n",
        "s1 = Student(\"Alice\", 13)\n",
        "s1.show()"
      ],
      "metadata": {
        "colab": {
          "base_uri": "https://localhost:8080/"
        },
        "id": "h8izWapVc_PV",
        "outputId": "d3786f3f-c033-4685-9ca0-a333a92b5100"
      },
      "execution_count": 3,
      "outputs": [
        {
          "output_type": "stream",
          "name": "stdout",
          "text": [
            "Name: Alice\n",
            "Age: 13\n"
          ]
        }
      ]
    },
    {
      "cell_type": "markdown",
      "source": [
        "**Encapsulation**"
      ],
      "metadata": {
        "id": "gnpV9lGefhqZ"
      }
    },
    {
      "cell_type": "code",
      "source": [
        "class Student:\n",
        "    def __init__(self, name): # class\n",
        "        self.name = name\n",
        "        self.__marks = 0  # Private variable (variable created outside the class)\n",
        "\n",
        "    def set_marks(self, marks):\n",
        "        self.__marks = marks\n",
        "\n",
        "    def get_marks(self):\n",
        "        return self.__marks\n",
        "\n",
        "s1 = Student(\"Bob\")\n",
        "s1.set_marks(95)\n",
        "print(\"Marks:\", s1.get_marks())"
      ],
      "metadata": {
        "colab": {
          "base_uri": "https://localhost:8080/"
        },
        "id": "WlYUDF8hflej",
        "outputId": "0a87c68e-30d7-4589-c6e5-cf8d19e2f8fb"
      },
      "execution_count": 8,
      "outputs": [
        {
          "output_type": "stream",
          "name": "stdout",
          "text": [
            "Marks: 95\n"
          ]
        }
      ]
    },
    {
      "cell_type": "markdown",
      "source": [
        "**Inheritance**"
      ],
      "metadata": {
        "id": "OteB4vMSiOjX"
      }
    },
    {
      "cell_type": "code",
      "source": [
        "class Animal:\n",
        "    def speak(self):\n",
        "        print(\"Animal makes a sound\")\n",
        "\n",
        "class Dog(Animal):\n",
        "    def bark(self):\n",
        "        print(\"Dog barks\")\n",
        "\n",
        "d = Dog()\n",
        "d.speak()  # From parent class\n",
        "d.bark()   # From child class"
      ],
      "metadata": {
        "colab": {
          "base_uri": "https://localhost:8080/"
        },
        "id": "7eInC_ooiUnh",
        "outputId": "6e0ab701-244b-4166-8c8b-f45b80841494"
      },
      "execution_count": 9,
      "outputs": [
        {
          "output_type": "stream",
          "name": "stdout",
          "text": [
            "Animal makes a sound\n",
            "Dog barks\n"
          ]
        }
      ]
    },
    {
      "cell_type": "markdown",
      "source": [
        "Polymorphism"
      ],
      "metadata": {
        "id": "YVuzIJD9lK2x"
      }
    },
    {
      "cell_type": "code",
      "source": [
        "# Parent class\n",
        "class Father:\n",
        "    def profession(self):\n",
        "        print(\"Father is a Teacher\")\n",
        "\n",
        "# Child class\n",
        "class Son(Father):\n",
        "    def profession(self):\n",
        "        print(\"Son is a Engineer\")\n",
        "\n",
        "# Objects\n",
        "dad = Father()\n",
        "son = Son()\n",
        "\n",
        "# Polymorphism in action\n",
        "dad.profession()   # Calls Father's method\n",
        "son.profession()   # Calls Son's method"
      ],
      "metadata": {
        "colab": {
          "base_uri": "https://localhost:8080/"
        },
        "id": "z_HC6P-QlG3_",
        "outputId": "8fafb776-a1b6-496f-baaa-0be6519ac62d"
      },
      "execution_count": 10,
      "outputs": [
        {
          "output_type": "stream",
          "name": "stdout",
          "text": [
            "Father is a Teacher\n",
            "Son is a Engineer\n"
          ]
        }
      ]
    },
    {
      "cell_type": "markdown",
      "source": [
        "**Abstarction**"
      ],
      "metadata": {
        "id": "9BcCOT0dlpBj"
      }
    },
    {
      "cell_type": "code",
      "source": [
        "from abc import ABC, abstractmethod\n",
        "\n",
        "class Shape(ABC):\n",
        "    @abstractmethod\n",
        "    def area(self):\n",
        "        pass\n",
        "\n",
        "class Square(Shape):\n",
        "    def __init__(self, side):\n",
        "        self.side = side\n",
        "\n",
        "    def area(self):\n",
        "        return self.side * self.side\n",
        "\n",
        "s = Square(4)\n",
        "print(\"Area of square:\", s.area())"
      ],
      "metadata": {
        "colab": {
          "base_uri": "https://localhost:8080/"
        },
        "id": "uFOpnjUFiyyl",
        "outputId": "00711782-334b-4890-8c72-3a29c137e985"
      },
      "execution_count": 12,
      "outputs": [
        {
          "output_type": "stream",
          "name": "stdout",
          "text": [
            "Area of square: 16\n"
          ]
        }
      ]
    },
    {
      "cell_type": "code",
      "source": [],
      "metadata": {
        "id": "f_0rQvNFmHU3"
      },
      "execution_count": null,
      "outputs": []
    }
  ]
}